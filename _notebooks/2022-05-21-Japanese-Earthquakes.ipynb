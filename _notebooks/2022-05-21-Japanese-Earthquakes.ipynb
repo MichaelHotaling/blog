{
 "cells": [
  {
   "cell_type": "markdown",
   "id": "fd17a510",
   "metadata": {},
   "source": [
    "# The Great 2011 Tohoku earthquake and the Fukushima Daiichi Accident: An Analysis\n",
    "\n",
    "> The Tohoku earthquake was the most powerful earthquake ever recorded in Japan, and the fourth most powerful earthquake in the world since modern record-keeping began in 1900. This notebook is an analysis into the earthquakes in Japan and how frequently Japan should expect earthquakes of varying magnitude based on linear regression\n",
    "\n",
    "- toc: true\n",
    "- branch: master\n",
    "- author: Michael Hotaling\n",
    "- badges: true\n",
    "- comments: true\n",
    "- categories: [jupyter,matplotlib,python,model,linear,machine learning]\n",
    "- hide: false\n",
    "- show_image: true\n",
    "- hide_binder_badge: false\n",
    "- hide_colab_badge: false"
   ]
  },
  {
   "cell_type": "code",
   "execution_count": 1,
   "id": "715553f0",
   "metadata": {},
   "outputs": [],
   "source": [
    "import pandas as pd"
   ]
  },
  {
   "cell_type": "code",
   "execution_count": 3,
   "id": "06f5976d",
   "metadata": {},
   "outputs": [],
   "source": [
    "import numpy as np \n",
    "import pandas as pd\n",
    "import matplotlib.pyplot as plt\n",
    "import seaborn as sns\n",
    "from sklearn.linear_model import LinearRegression\n",
    "#import geopandas as gpd\n",
    "import folium"
   ]
  },
  {
   "cell_type": "code",
   "execution_count": null,
   "id": "5d279c1f",
   "metadata": {},
   "outputs": [],
   "source": []
  }
 ],
 "metadata": {
  "kernelspec": {
   "display_name": "Python 3",
   "language": "python",
   "name": "python3"
  },
  "language_info": {
   "codemirror_mode": {
    "name": "ipython",
    "version": 3
   },
   "file_extension": ".py",
   "mimetype": "text/x-python",
   "name": "python",
   "nbconvert_exporter": "python",
   "pygments_lexer": "ipython3",
   "version": "3.8.10"
  }
 },
 "nbformat": 4,
 "nbformat_minor": 5
}
