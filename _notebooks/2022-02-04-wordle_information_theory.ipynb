{
 "cells": [
  {
   "cell_type": "markdown",
   "metadata": {},
   "source": [
    "# Solving Wordle Using Information Theory"
   ]
  },
  {
   "cell_type": "markdown",
   "metadata": {},
   "source": [
    "> [Wordle](https://www.powerlanguage.co.uk/wordle/) has gone pretty viral in the last couple months. It's a very simple game where you have to guess a five letter word within six guesses. Each guess reveals some information about what letters are in the word and in what positions. The faster you get the word, the better your score. \n",
    "- toc: true\n",
    "- branch: master\n",
    "- author: Michael Hotaling\n",
    "- badges: true\n",
    "- comments: true\n",
    "- categories: [jupyter, visualizations, matplotlib,python]\n",
    "- hide: false\n",
    "- image: images/painbow_award.png\n",
    "- show_image: true\n",
    "- permalink: /painbow/\n",
    "- hide_binder_badge: true\n",
    "- hide_colab_badge: true"
   ]
  },
  {
   "cell_type": "markdown",
   "metadata": {},
   "source": [
    "It's an interesting game to analyze from a programatic standpoint. Is there a strategy that can ensure that we guess the word of the day in as few guesses as possible? What is the best starting word? What's the worst starting word? "
   ]
  },
  {
   "cell_type": "code",
   "execution_count": 1,
   "metadata": {},
   "outputs": [],
   "source": [
    "import itertools\n",
    "import string\n",
    "import requests\n",
    "import datetime\n",
    "import numpy as np\n",
    "import pandas as pd"
   ]
  },
  {
   "cell_type": "markdown",
   "metadata": {},
   "source": [
    "![Wordle](images/solvewordgamesusingmath.JPG)"
   ]
  },
  {
   "cell_type": "markdown",
   "metadata": {},
   "source": [
    "## The Data\n",
    "\n",
    "Wordle requires the player to input an actual five-letter words, so it forbids random assortment of letters like `prsmt` or `aeiou` which, theoretically would be good starting words. \n",
    "\n",
    "There's are two lists of words that you are allowed to enter in the game that are considered valid guesses. The pool of allowable entries is a little less that 13,000 words long, but these is another curated list that contains about 2,300 possible answers. These lists are actually present in the source code on the website in the order that they appear, so it is technically possible to just look up tomorrows answer, but that'd be cheating. \n",
    "\n",
    "We will pull the lists from the JS file and sort them to remove the order information. Unfortunately, there isn't a great way to pull a variable or array from a JavaScript file into Python, so some hacky string manipulation will have to do."
   ]
  },
  {
   "cell_type": "code",
   "execution_count": 2,
   "metadata": {},
   "outputs": [
    {
     "name": "stdout",
     "output_type": "stream",
     "text": [
      "There are 2315 possible answers in Wordle\n",
      "There are 12972 possible words that can be entered in Wordle\n"
     ]
    }
   ],
   "source": [
    "#response = requests.get(\"https://www.nytimes.com/games/wordle/main.4d41d2be.js\")\n",
    "# Legacy JS\n",
    "\n",
    "url = \"https://web.archive.org/web/20220101000805js_/https://www.powerlanguage.co.uk/wordle/main.db1931a8.js\"\n",
    "response = requests.get(url)\n",
    "data = response.text\n",
    "\n",
    "#valid_entries = data.split(\",Oa=[\")[1].split(\"]\")[0].replace('\"',\"\").upper().split(\",\")\n",
    "#wordle_answers = data.split(\"var Ma=[\")[-1].split(\"]\")[0].replace('\"',\"\").upper().split(\",\")\n",
    "\n",
    "wordle_answers = data.split(\"var Aa=[\")[-1].split(\"]\")[0].replace('\"',\"\").upper().split(\",\")\n",
    "valid_entries = data.split(\",La=[\")[-1].split(\"]\")[0].replace('\"',\"\").upper().split(\",\")\n",
    "valid_entries = sorted(list(set(wordle_answers + valid_entries)))\n",
    "\n",
    "wordle_answers = sorted(wordle_answers)\n",
    "\n",
    "print(f\"There are {len(wordle_answers)} possible answers in Wordle\")\n",
    "print(f\"There are {len(valid_entries)} possible words that can be entered in Wordle\")"
   ]
  },
  {
   "cell_type": "markdown",
   "metadata": {},
   "source": [
    "## Game Mechanics\n",
    "\n",
    "The game first starts with an empty 5x6 grid. We have to choose a starting word to begin the game. After we hit enter with our first guess, hidden information is revealed about the secret word using the letters of our submission. All five of our letters will change color based on if the letters are present in the hidden word. \n",
    "\n",
    "![ocean](images/ocean.JPG)\n",
    "\n",
    "If our letter turns green, it means that the letter is present in the hidden word and in the correct position. Yellow means that the letter is in the word, but in the incorrect position. Gray means that the letter is not in the hidden word at all.\n",
    "\n",
    "To begin with our analysis, we can create a function that returns the color sequence for a particular combination of words. We can start by generating a list of n length with each of the spaces representing a white space. The function will then check the position of each of the letters between two words of the same length. If the letters match up, it will overwrite the white space with a green space. If the letter is present in the word, but the positions don't match, it will overwrite the white space with a yellow space. "
   ]
  },
  {
   "cell_type": "code",
   "execution_count": 3,
   "metadata": {},
   "outputs": [],
   "source": [
    "def indices(arr:list, value:str) -> list:\n",
    "    \"\"\"A function that takes in a list and a string and returns a list of index positions within the input list\n",
    "    \n",
    "    Args:\n",
    "        arr (list): List to pull the index values from\n",
    "        item (str): String to search for in the input list\n",
    "\n",
    "    Returns:\n",
    "        list: list of index positions of item\n",
    "\n",
    "    \"\"\"\n",
    "    return [ind for ind, x in enumerate(arr) if x == value]\n",
    "\n",
    "def color_sequence(guess:str, answer:str, emoji=True) -> str:\n",
    "    \"\"\"A function that takes returns a color sequence of a guess based on a predetermined answer\n",
    "    \n",
    "    Args:\n",
    "        guess  (str): \n",
    "            The guess for the game\n",
    "        answer (str):\n",
    "            The answer for the game\n",
    "        emoji (bool): True\n",
    "            Returns a string of green, yellow and white square emojies\n",
    "            False will return letters G,Y, and W\n",
    "\n",
    "    Returns:\n",
    "        str: Color sequence \n",
    "\n",
    "    \"\"\"\n",
    "    guess = list(guess)\n",
    "    answer = list(answer)\n",
    "    \n",
    "    # Start with all spaces absent\n",
    "    colors = [\"W\"] * (len(answer))\n",
    "    \n",
    "    # If correct\n",
    "    for ind, (g_letter, a_letter) in enumerate(zip(guess, answer)):\n",
    "        if g_letter == a_letter:\n",
    "            colors[ind] = \"G\"\n",
    "            guess[ind] = \"\"\n",
    "            answer[ind] = \"\"\n",
    "    \n",
    "    # If present\n",
    "    for ind, (g_letter, a_letter) in enumerate(zip(guess, answer)):\n",
    "        if g_letter != a_letter and g_letter in answer and g_letter != \"\":\n",
    "            g = indices(guess, g_letter)\n",
    "            a = indices(answer, g_letter)\n",
    "            if not any(i in g for i in a):\n",
    "                colors[ind] = \"Y\"\n",
    "                answer[answer.index(g_letter)] = \"\"\n",
    "                \n",
    "    colors = \"\".join(colors)\n",
    "    \n",
    "    if emoji:\n",
    "        colors = (colors\n",
    "                  .replace(\"G\",\"🟩\")\n",
    "                  .replace(\"Y\",\"🟨\")\n",
    "                  .replace(\"W\",\"⬜\"))\n",
    "    \n",
    "    return colors"
   ]
  },
  {
   "cell_type": "markdown",
   "metadata": {},
   "source": [
    "## All Possible Color Sequences\n",
    "\n",
    "We have a total of three different colors to choose from with a total of five positions. \n",
    "This yields a total of $3^5$ combinations, or 243 total combos. However, there are a few combinations that can't be returns like 🟩🟩🟩🟩🟨, 🟩🟩🟩🟨🟩, 🟩🟩🟨🟩🟩 and so on."
   ]
  },
  {
   "cell_type": "code",
   "execution_count": 4,
   "metadata": {
    "scrolled": false
   },
   "outputs": [
    {
     "name": "stdout",
     "output_type": "stream",
     "text": [
      "⬜⬜⬜⬜⬜ ⬜⬜⬜⬜🟨 ⬜⬜⬜⬜🟩 ⬜⬜⬜🟨⬜ ⬜⬜⬜🟨🟨 ⬜⬜⬜🟨🟩 ⬜⬜⬜🟩⬜ \n",
      "⬜⬜⬜🟩🟨 ⬜⬜⬜🟩🟩 ⬜⬜🟨⬜⬜ ⬜⬜🟨⬜🟨 ⬜⬜🟨⬜🟩 ⬜⬜🟨🟨⬜ ⬜⬜🟨🟨🟨 \n",
      "⬜⬜🟨🟨🟩 ⬜⬜🟨🟩⬜ ⬜⬜🟨🟩🟨 ⬜⬜🟨🟩🟩 ⬜⬜🟩⬜⬜ ⬜⬜🟩⬜🟨 ⬜⬜🟩⬜🟩 \n",
      "⬜⬜🟩🟨⬜ ⬜⬜🟩🟨🟨 ⬜⬜🟩🟨🟩 ⬜⬜🟩🟩⬜ ⬜⬜🟩🟩🟨 ⬜⬜🟩🟩🟩 ⬜🟨⬜⬜⬜ \n",
      "⬜🟨⬜⬜🟨 ⬜🟨⬜⬜🟩 ⬜🟨⬜🟨⬜ ⬜🟨⬜🟨🟨 ⬜🟨⬜🟨🟩 ⬜🟨⬜🟩⬜ ⬜🟨⬜🟩🟨 \n",
      "⬜🟨⬜🟩🟩 ⬜🟨🟨⬜⬜ ⬜🟨🟨⬜🟨 ⬜🟨🟨⬜🟩 ⬜🟨🟨🟨⬜ ⬜🟨🟨🟨🟨 ⬜🟨🟨🟨🟩 \n",
      "⬜🟨🟨🟩⬜ ⬜🟨🟨🟩🟨 ⬜🟨🟨🟩🟩 ⬜🟨🟩⬜⬜ ⬜🟨🟩⬜🟨 ⬜🟨🟩⬜🟩 ⬜🟨🟩🟨⬜ \n",
      "⬜🟨🟩🟨🟨 ⬜🟨🟩🟨🟩 ⬜🟨🟩🟩⬜ ⬜🟨🟩🟩🟨 ⬜🟨🟩🟩🟩 ⬜🟩⬜⬜⬜ ⬜🟩⬜⬜🟨 \n",
      "⬜🟩⬜⬜🟩 ⬜🟩⬜🟨⬜ ⬜🟩⬜🟨🟨 ⬜🟩⬜🟨🟩 ⬜🟩⬜🟩⬜ ⬜🟩⬜🟩🟨 ⬜🟩⬜🟩🟩 \n",
      "⬜🟩🟨⬜⬜ ⬜🟩🟨⬜🟨 ⬜🟩🟨⬜🟩 ⬜🟩🟨🟨⬜ ⬜🟩🟨🟨🟨 ⬜🟩🟨🟨🟩 ⬜🟩🟨🟩⬜ \n",
      "⬜🟩🟨🟩🟨 ⬜🟩🟨🟩🟩 ⬜🟩🟩⬜⬜ ⬜🟩🟩⬜🟨 ⬜🟩🟩⬜🟩 ⬜🟩🟩🟨⬜ ⬜🟩🟩🟨🟨 \n",
      "⬜🟩🟩🟨🟩 ⬜🟩🟩🟩⬜ ⬜🟩🟩🟩🟨 ⬜🟩🟩🟩🟩 🟨⬜⬜⬜⬜ 🟨⬜⬜⬜🟨 🟨⬜⬜⬜🟩 \n",
      "🟨⬜⬜🟨⬜ 🟨⬜⬜🟨🟨 🟨⬜⬜🟨🟩 🟨⬜⬜🟩⬜ 🟨⬜⬜🟩🟨 🟨⬜⬜🟩🟩 🟨⬜🟨⬜⬜ \n",
      "🟨⬜🟨⬜🟨 🟨⬜🟨⬜🟩 🟨⬜🟨🟨⬜ 🟨⬜🟨🟨🟨 🟨⬜🟨🟨🟩 🟨⬜🟨🟩⬜ 🟨⬜🟨🟩🟨 \n",
      "🟨⬜🟨🟩🟩 🟨⬜🟩⬜⬜ 🟨⬜🟩⬜🟨 🟨⬜🟩⬜🟩 🟨⬜🟩🟨⬜ 🟨⬜🟩🟨🟨 🟨⬜🟩🟨🟩 \n",
      "🟨⬜🟩🟩⬜ 🟨⬜🟩🟩🟨 🟨⬜🟩🟩🟩 🟨🟨⬜⬜⬜ 🟨🟨⬜⬜🟨 🟨🟨⬜⬜🟩 🟨🟨⬜🟨⬜ \n",
      "🟨🟨⬜🟨🟨 🟨🟨⬜🟨🟩 🟨🟨⬜🟩⬜ 🟨🟨⬜🟩🟨 🟨🟨⬜🟩🟩 🟨🟨🟨⬜⬜ 🟨🟨🟨⬜🟨 \n",
      "🟨🟨🟨⬜🟩 🟨🟨🟨🟨⬜ 🟨🟨🟨🟨🟨 🟨🟨🟨🟨🟩 🟨🟨🟨🟩⬜ 🟨🟨🟨🟩🟨 🟨🟨🟨🟩🟩 \n",
      "🟨🟨🟩⬜⬜ 🟨🟨🟩⬜🟨 🟨🟨🟩⬜🟩 🟨🟨🟩🟨⬜ 🟨🟨🟩🟨🟨 🟨🟨🟩🟨🟩 🟨🟨🟩🟩⬜ \n",
      "🟨🟨🟩🟩🟨 🟨🟨🟩🟩🟩 🟨🟩⬜⬜⬜ 🟨🟩⬜⬜🟨 🟨🟩⬜⬜🟩 🟨🟩⬜🟨⬜ 🟨🟩⬜🟨🟨 \n",
      "🟨🟩⬜🟨🟩 🟨🟩⬜🟩⬜ 🟨🟩⬜🟩🟨 🟨🟩⬜🟩🟩 🟨🟩🟨⬜⬜ 🟨🟩🟨⬜🟨 🟨🟩🟨⬜🟩 \n",
      "🟨🟩🟨🟨⬜ 🟨🟩🟨🟨🟨 🟨🟩🟨🟨🟩 🟨🟩🟨🟩⬜ 🟨🟩🟨🟩🟨 🟨🟩🟨🟩🟩 🟨🟩🟩⬜⬜ \n",
      "🟨🟩🟩⬜🟨 🟨🟩🟩⬜🟩 🟨🟩🟩🟨⬜ 🟨🟩🟩🟨🟨 🟨🟩🟩🟨🟩 🟨🟩🟩🟩⬜ 🟨🟩🟩🟩🟨 \n",
      "🟩⬜⬜⬜⬜ 🟩⬜⬜⬜🟨 🟩⬜⬜⬜🟩 🟩⬜⬜🟨⬜ 🟩⬜⬜🟨🟨 🟩⬜⬜🟨🟩 🟩⬜⬜🟩⬜ \n",
      "🟩⬜⬜🟩🟨 🟩⬜⬜🟩🟩 🟩⬜🟨⬜⬜ 🟩⬜🟨⬜🟨 🟩⬜🟨⬜🟩 🟩⬜🟨🟨⬜ 🟩⬜🟨🟨🟨 \n",
      "🟩⬜🟨🟨🟩 🟩⬜🟨🟩⬜ 🟩⬜🟨🟩🟨 🟩⬜🟨🟩🟩 🟩⬜🟩⬜⬜ 🟩⬜🟩⬜🟨 🟩⬜🟩⬜🟩 \n",
      "🟩⬜🟩🟨⬜ 🟩⬜🟩🟨🟨 🟩⬜🟩🟨🟩 🟩⬜🟩🟩⬜ 🟩⬜🟩🟩🟨 🟩⬜🟩🟩🟩 🟩🟨⬜⬜⬜ \n",
      "🟩🟨⬜⬜🟨 🟩🟨⬜⬜🟩 🟩🟨⬜🟨⬜ 🟩🟨⬜🟨🟨 🟩🟨⬜🟨🟩 🟩🟨⬜🟩⬜ 🟩🟨⬜🟩🟨 \n",
      "🟩🟨⬜🟩🟩 🟩🟨🟨⬜⬜ 🟩🟨🟨⬜🟨 🟩🟨🟨⬜🟩 🟩🟨🟨🟨⬜ 🟩🟨🟨🟨🟨 🟩🟨🟨🟨🟩 \n",
      "🟩🟨🟨🟩⬜ 🟩🟨🟨🟩🟨 🟩🟨🟨🟩🟩 🟩🟨🟩⬜⬜ 🟩🟨🟩⬜🟨 🟩🟨🟩⬜🟩 🟩🟨🟩🟨⬜ \n",
      "🟩🟨🟩🟨🟨 🟩🟨🟩🟨🟩 🟩🟨🟩🟩⬜ 🟩🟨🟩🟩🟨 🟩🟩⬜⬜⬜ 🟩🟩⬜⬜🟨 🟩🟩⬜⬜🟩 \n",
      "🟩🟩⬜🟨⬜ 🟩🟩⬜🟨🟨 🟩🟩⬜🟨🟩 🟩🟩⬜🟩⬜ 🟩🟩⬜🟩🟨 🟩🟩⬜🟩🟩 🟩🟩🟨⬜⬜ \n",
      "🟩🟩🟨⬜🟨 🟩🟩🟨⬜🟩 🟩🟩🟨🟨⬜ 🟩🟩🟨🟨🟨 🟩🟩🟨🟨🟩 🟩🟩🟨🟩⬜ 🟩🟩🟨🟩🟨 \n",
      "🟩🟩🟩⬜⬜ 🟩🟩🟩⬜🟨 🟩🟩🟩⬜🟩 🟩🟩🟩🟨⬜ 🟩🟩🟩🟨🟨 🟩🟩🟩🟩⬜ 🟩🟩🟩🟩🟩 \n"
     ]
    }
   ],
   "source": [
    "combinations = [\"\".join(i) for i in itertools.product(\"⬜🟨🟩\", repeat = 5)]\n",
    "remove = [\"\".join(i) for i in itertools.product(\"🟩🟨\", repeat = 5)]\n",
    "remove = [i for i in remove if len(indices(i,\"🟩\")) > 3]\n",
    "\n",
    "combinations = set(combinations)-set(remove[1::])\n",
    "\n",
    "for ind, i in enumerate(sorted(combinations), start = 1):\n",
    "    print(i, end =\" \")\n",
    "    if ind % 7 == 0:\n",
    "        print(\"\")"
   ]
  },
  {
   "cell_type": "markdown",
   "metadata": {},
   "source": [
    "We will also want to create a function that takes in a guess and a color sequence to find the words in the corpus that match the sequence. "
   ]
  },
  {
   "cell_type": "code",
   "execution_count": 5,
   "metadata": {},
   "outputs": [],
   "source": [
    "def get_words_using_sequence(input_word, sequence, corpus):\n",
    "    return [word for word in corpus if color_sequence(input_word, word) == sequence]"
   ]
  },
  {
   "cell_type": "markdown",
   "metadata": {},
   "source": [
    "There is a special mechanic for duplicate letters. If a guess contains duplicate letters but the answer only has one of the letters, the first letter in the guess will appear yellow and the second will appear white. If there are two duplicate characters and they are both misplaced, they will both appear yellow. The same goes for combinations of matching and present characters. We can verify our function returns the correct values for the the following guess `HELLO` when the answer varies in the number of Ls. "
   ]
  },
  {
   "cell_type": "code",
   "execution_count": 6,
   "metadata": {},
   "outputs": [
    {
     "name": "stdout",
     "output_type": "stream",
     "text": [
      "Game Mechanics for Duplicate Letters\n",
      "      H  E  L L  O\n",
      "HYDRO 🟩⬜⬜⬜🟩 No L's\n",
      "HAZEL 🟩🟨🟨⬜⬜ One L: misplaced\n",
      "GOLEM ⬜🟨🟩⬜🟨 One L: correct\n",
      "NOBLE ⬜🟨⬜🟩🟨 One L: correct\n",
      "LLAMA ⬜⬜🟨🟨⬜ Two L's: both misplaced\n",
      "ALLEY ⬜🟨🟩🟨⬜ Two L's: one correct, one misplaced\n",
      "TROLL ⬜⬜🟨🟩🟨 Two L's: one correct, one misplaced\n",
      "JOLLY ⬜⬜🟩🟩🟨 Two L's: both correct\n"
     ]
    }
   ],
   "source": [
    "print(\"Game Mechanics for Duplicate Letters\")\n",
    "print(f\"      H  E  L L  O\")\n",
    "print(\"HYDRO\", color_sequence(guess = \"HELLO\", answer = \"HYDRO\"), \"No L's\")\n",
    "print(\"HAZEL\", color_sequence(guess = \"HELLO\", answer = \"HAZEL\"), \"One L: misplaced\")\n",
    "print(\"GOLEM\", color_sequence(guess = \"HELLO\", answer = \"GOLEM\"), \"One L: correct\")\n",
    "print(\"NOBLE\", color_sequence(guess = \"HELLO\", answer = \"NOBLE\"), \"One L: correct\")\n",
    "print(\"LLAMA\", color_sequence(guess = \"HELLO\", answer = \"LLAMA\"), \"Two L's: both misplaced\")\n",
    "print(\"ALLEY\", color_sequence(guess = \"HELLO\", answer = \"ALLEY\"), \"Two L's: one correct, one misplaced\")\n",
    "print(\"TROLL\", color_sequence(guess = \"HELLO\", answer = \"TROLL\"), \"Two L's: one correct, one misplaced\")\n",
    "print(\"JOLLY\", color_sequence(guess = \"HELLO\", answer = \"JOLLY\"), \"Two L's: both correct\")"
   ]
  },
  {
   "cell_type": "markdown",
   "metadata": {},
   "source": [
    "## Calculating the Entropy"
   ]
  },
  {
   "cell_type": "markdown",
   "metadata": {},
   "source": [
    "Now, we can generate a list of words that match the sequence we recieve from the game. This won't always be very helpful. We may get stuck in a loop of possible answers, which a common way to fail the game. For example, if we use `SPARK` and get the 🟩⬜🟩🟩⬜ sequence, we get back several possible answers. "
   ]
  },
  {
   "cell_type": "code",
   "execution_count": 7,
   "metadata": {},
   "outputs": [
    {
     "name": "stdout",
     "output_type": "stream",
     "text": [
      "['SCARE', 'SCARF', 'SCARY', 'SHARD', 'SHARE', 'SMART', 'SNARE', 'SNARL', 'STARE', 'START', 'SWARM']\n"
     ]
    }
   ],
   "source": [
    "reduced_corpus = get_words_using_sequence('SPARK', \"🟩⬜🟩🟩⬜\", wordle_answers)\n",
    "print(reduced_corpus)"
   ]
  },
  {
   "cell_type": "markdown",
   "metadata": {},
   "source": [
    "Instead of trying each of the possible answers, we can use a turn to reduce the amount of possible answers. For example, `THYME` would be a great word to use in this case. All but two of the possible answers will have unique sequences which we can use to narrow down the answer much faster in a much more repeatable way."
   ]
  },
  {
   "cell_type": "code",
   "execution_count": 8,
   "metadata": {},
   "outputs": [
    {
     "name": "stdout",
     "output_type": "stream",
     "text": [
      "       T H  Y M  E\n",
      "SCARE ⬜⬜⬜⬜🟩\n",
      "SCARF ⬜⬜⬜⬜⬜\n",
      "SCARY ⬜⬜🟨⬜⬜\n",
      "SHARD ⬜🟩⬜⬜⬜\n",
      "SHARE ⬜🟩⬜⬜🟩\n",
      "SMART 🟨⬜⬜🟨⬜\n",
      "SNARE ⬜⬜⬜⬜🟩\n",
      "SNARL ⬜⬜⬜⬜⬜\n",
      "STARE 🟨⬜⬜⬜🟩\n",
      "START 🟨⬜⬜⬜⬜\n",
      "SWARM ⬜⬜⬜🟨⬜\n"
     ]
    }
   ],
   "source": [
    "print(\"       T H  Y M  E\")\n",
    "for word in reduced_corpus:\n",
    "    print(word, color_sequence(guess = \"THYME\", answer = word))"
   ]
  },
  {
   "cell_type": "markdown",
   "metadata": {},
   "source": [
    "We can use this principle on all the the available words to find which one fits the best. Since we have the complete list of possible entries for Wordle, we can now iterate through the list, finding how many different combinations of sequences there are for each word and counting how many times each sequence occurs. Using that information, we can calculate the probability of each sequence occuring and also calculate the entropy that each sequence returns. \n",
    "\n",
    "Entropy in this case is a measure of how far we reduce the possible pool of answers. It can be calculated by taking the log-base 2 of the percentage of answers given that are possible for a given sequence. \n",
    "\n",
    "$$\n",
    "I(E) = \\log_2\\left(\\frac{1}{p(E)}\\right)\n",
    "$$\n",
    "\n",
    "For example, if we use the word `PIZZA` as a starting word, which would instictually be a bad starting word due to the double Zs, and get ⬜⬜⬜🟩⬜, we reduce our possible pool of answers from 12,972 to 25. That provides an entropy value of 9.02 bits. \n",
    "\n",
    "> `BONZE`,\n",
    " `BOOZE`,\n",
    " `BOOZY`,\n",
    " `CLOZE`,\n",
    " `COOZE`,\n",
    " `CROZE`,\n",
    " `DOOZY`,\n",
    " `FEEZE`,\n",
    " `FORZE`,\n",
    " `FROZE`,\n",
    " `FURZE`,\n",
    " `FURZY`,\n",
    " `GLOZE`,\n",
    " `GONZO`,\n",
    " `HEEZE`,\n",
    " `JEEZE`,\n",
    " `KUDZU`,\n",
    " `LEEZE`,\n",
    " `NEEZE`,\n",
    " `NUDZH`,\n",
    " `TOUZE`,\n",
    " `TOUZY`,\n",
    " `TOWZE`,\n",
    " `TOWZY`,\n",
    " `WOOZY`\n",
    "\n",
    "\n",
    "If instead, we got a more likely response of ⬜⬜⬜⬜⬜, we would reduce our pool of answers by a little over half, from 12,972 to 4,145. \n"
   ]
  },
  {
   "cell_type": "code",
   "execution_count": 9,
   "metadata": {},
   "outputs": [],
   "source": [
    "def count_of_combos(guess:str, answers:list, sort = False, probability = True, verbose = False) -> dict:\n",
    "    \"\"\"A function that takes in a list and a string and returns a list of index positions within the input list\n",
    "    \n",
    "    Args:\n",
    "        guess (str): \n",
    "            A string to compare all the answers against\n",
    "            \n",
    "        answers (list): \n",
    "            A list containing all possible combinations of answers\n",
    "        \n",
    "        sort (bool): False\n",
    "            Sorts the return dictionary by value\n",
    "            \n",
    "        probability (bool): True\n",
    "            Converts the values in the dictionary to a probability\n",
    "\n",
    "    Returns:\n",
    "        list: \n",
    "            list of index positions of item\n",
    "\n",
    "    \"\"\"\n",
    "    results_dict = {}\n",
    "\n",
    "    increment_value = 1\n",
    "    \n",
    "    if probability is True:\n",
    "        increment_value /= len(answers)\n",
    "        \n",
    "    for ans in answers:\n",
    "        seq = color_sequence(guess, ans)\n",
    "\n",
    "        if seq in results_dict:\n",
    "            results_dict[seq] += increment_value\n",
    "        else:\n",
    "            results_dict[seq] = increment_value\n",
    "    if sort:\n",
    "        results_dict = dict(sorted(results_dict.items(), key=lambda item: item[1], reverse=True))\n",
    "\n",
    "    return results_dict"
   ]
  },
  {
   "cell_type": "code",
   "execution_count": 10,
   "metadata": {},
   "outputs": [
    {
     "name": "stdout",
     "output_type": "stream",
     "text": [
      "Data for Each Color Combinations for the Word PIZZA\n",
      "\n",
      "  Sequence    Count    %     Bits       Sequence    Count    %     Bits       Sequence    Count    %     Bits     \n",
      "⬜⬜⬜⬜⬜| 4145 |31.95%|  1.65    ⬜⬜⬜⬜🟨| 3167 |24.41%|  2.03    ⬜🟨⬜⬜⬜| 1190 | 9.17%|  3.45    \n",
      "⬜🟩⬜⬜⬜| 956  | 7.37%|  3.76    ⬜🟨⬜⬜🟨| 576  | 4.44%|  4.49    🟨⬜⬜⬜⬜| 442  | 3.41%|  4.88    \n",
      "⬜⬜⬜⬜🟩| 408  | 3.15%|  4.99    🟩⬜⬜⬜⬜| 358  | 2.76%|  5.18    🟨⬜⬜⬜🟨| 309  | 2.38%|  5.39    \n",
      "🟩⬜⬜⬜🟨| 219  | 1.69%|  5.89    ⬜🟩⬜⬜🟨| 136  | 1.05%|  6.58    🟨🟨⬜⬜⬜| 126  | 0.97%|  6.69    \n",
      "⬜🟨⬜⬜🟩| 84   | 0.65%|  7.27    🟩🟩⬜⬜⬜| 81   | 0.62%|  7.32    🟩🟨⬜⬜⬜| 79   | 0.61%|  7.36    \n",
      "⬜🟩⬜⬜🟩| 62   | 0.48%|  7.71    🟨🟩⬜⬜⬜| 58   | 0.45%|  7.81    🟩⬜⬜⬜🟩| 44   | 0.34%|  8.20    \n",
      "⬜⬜🟨⬜⬜| 42   | 0.32%|  8.27    ⬜⬜🟩⬜🟨| 41   | 0.32%|  8.31    🟨🟨⬜⬜🟨| 37   | 0.29%|  8.45    \n",
      "⬜⬜🟩⬜⬜| 36   | 0.28%|  8.49    ⬜⬜🟨⬜🟨| 35   | 0.27%|  8.53    🟩🟨⬜⬜🟨| 34   | 0.26%|  8.58    \n",
      "🟨⬜⬜⬜🟩| 30   | 0.23%|  8.76    ⬜⬜⬜🟩🟨| 26   | 0.20%|  8.96    ⬜⬜⬜🟩⬜| 25   | 0.19%|  9.02    \n",
      "🟩🟩⬜⬜🟨| 20   | 0.15%|  9.34    ⬜🟩🟨⬜⬜| 17   | 0.13%|  9.58    ⬜🟨🟨⬜⬜| 15   | 0.12%|  9.76    \n",
      "⬜🟩🟩⬜⬜| 14   | 0.11%|  9.86    ⬜🟨🟨⬜🟨| 13   | 0.10%|  9.96    ⬜⬜⬜🟩🟩| 12   | 0.09%| 10.08    \n",
      "⬜⬜🟩🟩⬜| 9    | 0.07%| 10.49    ⬜🟨🟩⬜⬜| 8    | 0.06%| 10.66    ⬜🟨⬜🟩🟨| 7    | 0.05%| 10.86    \n",
      "⬜⬜🟨⬜🟩| 7    | 0.05%| 10.86    ⬜🟩🟩🟩⬜| 6    | 0.05%| 11.08    ⬜🟨⬜🟩⬜| 6    | 0.05%| 11.08    \n",
      "🟩🟩⬜⬜🟩| 6    | 0.05%| 11.08    🟨🟨⬜⬜🟩| 5    | 0.04%| 11.34    ⬜🟩🟩⬜🟨| 4    | 0.03%| 11.66    \n",
      "⬜🟨🟨🟩⬜| 4    | 0.03%| 11.66    ⬜🟩⬜🟩⬜| 4    | 0.03%| 11.66    ⬜🟨🟩⬜🟨| 4    | 0.03%| 11.66    \n",
      "🟩🟨⬜⬜🟩| 4    | 0.03%| 11.66    🟨⬜🟨⬜🟨| 4    | 0.03%| 11.66    ⬜⬜🟩🟩🟩| 3    | 0.02%| 12.08    \n",
      "⬜⬜🟩🟩🟨| 3    | 0.02%| 12.08    🟨🟩⬜⬜🟩| 3    | 0.02%| 12.08    ⬜🟩🟨⬜🟨| 3    | 0.02%| 12.08    \n",
      "⬜⬜🟨🟩🟨| 2    | 0.02%| 12.66    ⬜🟨⬜🟩🟩| 2    | 0.02%| 12.66    🟨🟩⬜⬜🟨| 2    | 0.02%| 12.66    \n",
      "⬜🟨🟩🟨⬜| 2    | 0.02%| 12.66    🟩🟨⬜🟩⬜| 2    | 0.02%| 12.66    🟩🟩🟩⬜⬜| 2    | 0.02%| 12.66    \n",
      "⬜🟨🟨⬜🟩| 2    | 0.02%| 12.66    🟨🟩🟨⬜⬜| 2    | 0.02%| 12.66    ⬜🟩🟩🟨⬜| 2    | 0.02%| 12.66    \n",
      "🟨⬜🟨⬜🟩| 2    | 0.02%| 12.66    🟨🟨🟨⬜🟨| 1    | 0.01%| 13.66    ⬜🟩⬜🟩🟨| 1    | 0.01%| 13.66    \n",
      "⬜🟨🟩🟨🟨| 1    | 0.01%| 13.66    ⬜🟨🟩🟩🟨| 1    | 0.01%| 13.66    ⬜🟩⬜🟩🟩| 1    | 0.01%| 13.66    \n",
      "🟩⬜⬜🟩🟨| 1    | 0.01%| 13.66    🟩🟨🟨🟩⬜| 1    | 0.01%| 13.66    🟩🟩⬜🟩⬜| 1    | 0.01%| 13.66    \n",
      "🟩🟩🟩🟩🟩| 1    | 0.01%| 13.66    🟩⬜⬜🟩🟩| 1    | 0.01%| 13.66    🟩⬜🟨⬜⬜| 1    | 0.01%| 13.66    \n",
      "🟩⬜⬜🟩⬜| 1    | 0.01%| 13.66    🟩⬜🟩🟩⬜| 1    | 0.01%| 13.66    🟩⬜🟩⬜⬜| 1    | 0.01%| 13.66    \n",
      "🟩⬜🟨🟩🟨| 1    | 0.01%| 13.66    ⬜⬜🟨🟩⬜| 1    | 0.01%| 13.66    🟨⬜⬜🟩🟩| 1    | 0.01%| 13.66    \n",
      "🟨⬜🟨🟩🟨| 1    | 0.01%| 13.66    🟨🟨🟨⬜⬜| 1    | 0.01%| 13.66    🟨🟨🟩⬜⬜| 1    | 0.01%| 13.66    \n",
      "⬜⬜🟨🟩🟩| 1    | 0.01%| 13.66    ⬜⬜🟩🟨🟨| 1    | 0.01%| 13.66    ⬜⬜🟩🟨⬜| 1    | 0.01%| 13.66    \n",
      "⬜🟩🟨⬜🟩| 1    | 0.01%| 13.66    🟨⬜🟨⬜⬜| 1    | 0.01%| 13.66    "
     ]
    }
   ],
   "source": [
    "word = \"PIZZA\"\n",
    "word_combinations = count_of_combos(word, valid_entries, probability=True, sort = True)\n",
    "\n",
    "print(f\"Data for Each Color Combinations for the Word {word}\\n\")\n",
    "print(f\"{'Sequence':^12}  {'Count':<8} {'%':<5} {'Bits'}     \"*3)\n",
    "for ind, (key, value) in enumerate(word_combinations.items(), start = 1):\n",
    "    print(f\"{key}| {round(value*len(valid_entries)):<5}|{f'{value*100:.2f}%':>6s}| {f'{np.log2(1/value):.2f}':>5s}\", end = \"    \")\n",
    "    if ind % 3 == 0:\n",
    "        print()\n",
    "    "
   ]
  },
  {
   "cell_type": "markdown",
   "metadata": {},
   "source": [
    "We can now take the weight each combinations entropy by the probability of it occuring to get the entropy for each word and summing them all together to get the total entropy calculated for each word. \n",
    "\n",
    "$$H(X) = \\sum {p} \\log_2(\\frac{1}{p}) $$"
   ]
  },
  {
   "cell_type": "code",
   "execution_count": 11,
   "metadata": {},
   "outputs": [],
   "source": [
    "def sum_entropy_calculation(combinations):\n",
    "    entropy = 0\n",
    "    for key, value in combinations.items():\n",
    "        entropy += value * (-1 * np.log2(value))\n",
    "    return entropy"
   ]
  },
  {
   "cell_type": "code",
   "execution_count": 12,
   "metadata": {
    "scrolled": true
   },
   "outputs": [
    {
     "name": "stdout",
     "output_type": "stream",
     "text": [
      "The calculated entropy for the PIZZA is 3.27 Sh\n"
     ]
    }
   ],
   "source": [
    "print(f\"The calculated entropy for the {word} is {sum_entropy_calculation(word_combinations):.2f} Sh\")"
   ]
  },
  {
   "cell_type": "markdown",
   "metadata": {},
   "source": [
    "Now that we can calculate the entropy for one word, we can calculate the entropy for all of them by iterating over the list of words in the corpus."
   ]
  },
  {
   "cell_type": "code",
   "execution_count": 13,
   "metadata": {},
   "outputs": [],
   "source": [
    "def entropy_df(inputs, corpus):\n",
    "    entropy_dict = {}\n",
    "    for i in inputs:\n",
    "        combs = count_of_combos(i, corpus)\n",
    "        entropy_dict[i] = sum_entropy_calculation(combs)\n",
    "    df = pd.DataFrame([[key, val] for key, val in entropy_dict.items()], \n",
    "                      columns = ['WORD','ENTROPY']).sort_values(\"ENTROPY\", ascending=False)\n",
    "    df.index = df['WORD']\n",
    "    df.drop(['WORD'], axis = 1, inplace=True)\n",
    "    return df"
   ]
  },
  {
   "cell_type": "code",
   "execution_count": 14,
   "metadata": {},
   "outputs": [],
   "source": [
    "df = entropy_df(valid_entries, wordle_answers)"
   ]
  },
  {
   "cell_type": "markdown",
   "metadata": {},
   "source": [
    "Here are the top 10 starting words based on entropy."
   ]
  },
  {
   "cell_type": "code",
   "execution_count": 15,
   "metadata": {},
   "outputs": [
    {
     "data": {
      "text/html": [
       "<div>\n",
       "<style scoped>\n",
       "    .dataframe tbody tr th:only-of-type {\n",
       "        vertical-align: middle;\n",
       "    }\n",
       "\n",
       "    .dataframe tbody tr th {\n",
       "        vertical-align: top;\n",
       "    }\n",
       "\n",
       "    .dataframe thead th {\n",
       "        text-align: right;\n",
       "    }\n",
       "</style>\n",
       "<table border=\"1\" class=\"dataframe\">\n",
       "  <thead>\n",
       "    <tr style=\"text-align: right;\">\n",
       "      <th></th>\n",
       "      <th>ENTROPY</th>\n",
       "    </tr>\n",
       "    <tr>\n",
       "      <th>WORD</th>\n",
       "      <th></th>\n",
       "    </tr>\n",
       "  </thead>\n",
       "  <tbody>\n",
       "    <tr>\n",
       "      <th>SOARE</th>\n",
       "      <td>5.885960</td>\n",
       "    </tr>\n",
       "    <tr>\n",
       "      <th>ROATE</th>\n",
       "      <td>5.882779</td>\n",
       "    </tr>\n",
       "    <tr>\n",
       "      <th>RAISE</th>\n",
       "      <td>5.877910</td>\n",
       "    </tr>\n",
       "    <tr>\n",
       "      <th>RAILE</th>\n",
       "      <td>5.865710</td>\n",
       "    </tr>\n",
       "    <tr>\n",
       "      <th>REAST</th>\n",
       "      <td>5.865457</td>\n",
       "    </tr>\n",
       "    <tr>\n",
       "      <th>SLATE</th>\n",
       "      <td>5.855775</td>\n",
       "    </tr>\n",
       "    <tr>\n",
       "      <th>CRATE</th>\n",
       "      <td>5.834874</td>\n",
       "    </tr>\n",
       "    <tr>\n",
       "      <th>SALET</th>\n",
       "      <td>5.834582</td>\n",
       "    </tr>\n",
       "    <tr>\n",
       "      <th>IRATE</th>\n",
       "      <td>5.831397</td>\n",
       "    </tr>\n",
       "    <tr>\n",
       "      <th>TRACE</th>\n",
       "      <td>5.830549</td>\n",
       "    </tr>\n",
       "  </tbody>\n",
       "</table>\n",
       "</div>"
      ],
      "text/plain": [
       "        ENTROPY\n",
       "WORD           \n",
       "SOARE  5.885960\n",
       "ROATE  5.882779\n",
       "RAISE  5.877910\n",
       "RAILE  5.865710\n",
       "REAST  5.865457\n",
       "SLATE  5.855775\n",
       "CRATE  5.834874\n",
       "SALET  5.834582\n",
       "IRATE  5.831397\n",
       "TRACE  5.830549"
      ]
     },
     "execution_count": 15,
     "metadata": {},
     "output_type": "execute_result"
    }
   ],
   "source": [
    "df.head(10)"
   ]
  },
  {
   "cell_type": "markdown",
   "metadata": {},
   "source": [
    "and here are the 10 worst starting words. Unsuprisingly, many of them have duplicate and triplicate letters."
   ]
  },
  {
   "cell_type": "code",
   "execution_count": 16,
   "metadata": {},
   "outputs": [
    {
     "data": {
      "text/html": [
       "<div>\n",
       "<style scoped>\n",
       "    .dataframe tbody tr th:only-of-type {\n",
       "        vertical-align: middle;\n",
       "    }\n",
       "\n",
       "    .dataframe tbody tr th {\n",
       "        vertical-align: top;\n",
       "    }\n",
       "\n",
       "    .dataframe thead th {\n",
       "        text-align: right;\n",
       "    }\n",
       "</style>\n",
       "<table border=\"1\" class=\"dataframe\">\n",
       "  <thead>\n",
       "    <tr style=\"text-align: right;\">\n",
       "      <th></th>\n",
       "      <th>ENTROPY</th>\n",
       "    </tr>\n",
       "    <tr>\n",
       "      <th>WORD</th>\n",
       "      <th></th>\n",
       "    </tr>\n",
       "  </thead>\n",
       "  <tbody>\n",
       "    <tr>\n",
       "      <th>QAJAQ</th>\n",
       "      <td>1.891836</td>\n",
       "    </tr>\n",
       "    <tr>\n",
       "      <th>JUJUS</th>\n",
       "      <td>2.038309</td>\n",
       "    </tr>\n",
       "    <tr>\n",
       "      <th>IMMIX</th>\n",
       "      <td>2.052600</td>\n",
       "    </tr>\n",
       "    <tr>\n",
       "      <th>XYLYL</th>\n",
       "      <td>2.192001</td>\n",
       "    </tr>\n",
       "    <tr>\n",
       "      <th>YUKKY</th>\n",
       "      <td>2.205266</td>\n",
       "    </tr>\n",
       "    <tr>\n",
       "      <th>PZAZZ</th>\n",
       "      <td>2.214171</td>\n",
       "    </tr>\n",
       "    <tr>\n",
       "      <th>JAFFA</th>\n",
       "      <td>2.234170</td>\n",
       "    </tr>\n",
       "    <tr>\n",
       "      <th>FUFFY</th>\n",
       "      <td>2.243640</td>\n",
       "    </tr>\n",
       "    <tr>\n",
       "      <th>KUDZU</th>\n",
       "      <td>2.264022</td>\n",
       "    </tr>\n",
       "    <tr>\n",
       "      <th>GYPPY</th>\n",
       "      <td>2.285137</td>\n",
       "    </tr>\n",
       "  </tbody>\n",
       "</table>\n",
       "</div>"
      ],
      "text/plain": [
       "        ENTROPY\n",
       "WORD           \n",
       "QAJAQ  1.891836\n",
       "JUJUS  2.038309\n",
       "IMMIX  2.052600\n",
       "XYLYL  2.192001\n",
       "YUKKY  2.205266\n",
       "PZAZZ  2.214171\n",
       "JAFFA  2.234170\n",
       "FUFFY  2.243640\n",
       "KUDZU  2.264022\n",
       "GYPPY  2.285137"
      ]
     },
     "execution_count": 16,
     "metadata": {},
     "output_type": "execute_result"
    }
   ],
   "source": [
    "df.tail(10).sort_values('ENTROPY')"
   ]
  },
  {
   "cell_type": "markdown",
   "metadata": {},
   "source": [
    "## Follow Up Guesses\n",
    "Since we know the best starting word is `SOARE`, we can calculate what the next best word will be based on the sequence we get from `SOARE` The sequences below and their associated word yield the best entropy for the second term. Most of the time, the answer can be achieved in 3 guessses. "
   ]
  },
  {
   "cell_type": "code",
   "execution_count": 17,
   "metadata": {
    "scrolled": false
   },
   "outputs": [
    {
     "name": "stdout",
     "output_type": "stream",
     "text": [
      "⬜⬜⬜⬜⬜ LUNCH: 5.24  ⬜⬜⬜⬜🟨 BETEL: 5.02  ⬜⬜⬜⬜🟩 GUILT: 5.07  ⬜⬜⬜🟨⬜ GLINT: 4.66  \n",
      "⬜⬜⬜🟨🟨 DETER: 4.40  ⬜⬜⬜🟨🟩 TRUMP: 3.81  ⬜⬜⬜🟩⬜ TOUCH: 3.55  ⬜⬜⬜🟩🟨 BEEFY: 3.32  \n",
      "⬜⬜⬜🟩🟩 THERE: 2.00  ⬜⬜🟨⬜⬜ MINTY: 4.87  ⬜⬜🟨⬜🟨 CANAL: 4.59  ⬜⬜🟨⬜🟩 LAUGH: 3.87  \n",
      "⬜⬜🟨🟨⬜ RADAR: 4.21  ⬜⬜🟨🟨🟨 BETEL: 3.59  ⬜⬜🟨🟨🟩 CAROL: 2.81  ⬜⬜🟨🟩⬜ MARCH: 3.10  \n",
      "⬜⬜🟨🟩🟨 ALTAR: 2.32  ⬜⬜🟨🟩🟩 AFIRE: 1.00  ⬜⬜🟩⬜⬜ CLINK: 4.60  ⬜⬜🟩⬜🟨 DEPTH: 3.75  \n",
      "⬜⬜🟩⬜🟩 CLUNG: 3.12  ⬜⬜🟩🟨⬜ GLINT: 4.02  ⬜⬜🟩🟨🟨 ADMIT: 2.00  ⬜⬜🟩🟨🟩 DITCH: 2.97  \n",
      "⬜⬜🟩🟩⬜ AUDIT: 3.39  ⬜⬜🟩🟩🟨 HANDY: 2.73  ⬜⬜🟩🟩🟩 BAGEL: 2.00  ⬜🟨⬜⬜⬜ GLINT: 4.81  \n",
      "⬜🟨⬜⬜🟨 DEMON: 3.91  ⬜🟨⬜⬜🟩 CLINK: 3.78  ⬜🟨⬜🟨⬜ TUNIC: 3.95  ⬜🟨⬜🟨🟨 DETER: 3.03  \n",
      "⬜🟨⬜🟨🟩 PINTO: 2.69  ⬜🟨⬜🟩⬜ CYNIC: 3.00  ⬜🟨⬜🟩🟨 METRO: 1.58  ⬜🟨⬜🟩🟩 CHORE: 1.00  \n",
      "⬜🟨🟨⬜⬜ BLUNT: 4.28  ⬜🟨🟨⬜🟨 CAMEO: 2.00  ⬜🟨🟨⬜🟩 ABLED: 2.75  ⬜🟨🟨🟨⬜ BARON: 3.63  \n",
      "⬜🟨🟨🟩⬜ ABACK: 2.58  ⬜🟨🟨🟩🟨 OPERA: 0.00  ⬜🟨🟨🟩🟩 ADORE: 0.00  ⬜🟨🟩⬜⬜ PIANO: 0.00  \n",
      "⬜🟨🟩⬜🟩 OVATE: 0.00  ⬜🟨🟩🟨⬜ BRAVO: 0.00  ⬜🟨🟩🟩⬜ OVARY: 0.00  ⬜🟩⬜⬜⬜ LUNCH: 4.24  \n",
      "⬜🟩⬜⬜🟨 MONTH: 3.43  ⬜🟩⬜⬜🟩 CLOUD: 3.32  ⬜🟩⬜🟨⬜ MUNCH: 3.71  ⬜🟩⬜🟨🟨 WATCH: 2.40  \n",
      "⬜🟩⬜🟨🟩 FIGHT: 2.95  ⬜🟩⬜🟩⬜ ADULT: 2.58  ⬜🟩🟨⬜⬜ DELTA: 3.42  ⬜🟩🟨🟨⬜ BALMY: 3.00  \n",
      "⬜🟩🟨🟩⬜ COBRA: 0.00  ⬜🟩🟩⬜⬜ LOAMY: 2.32  ⬜🟩🟩🟨⬜ ROACH: 0.00  ⬜🟩🟩🟩⬜ BOARD: 1.00  \n",
      "🟨⬜⬜⬜⬜ MIGHT: 4.25  🟨⬜⬜⬜🟨 BUILT: 3.62  🟨⬜⬜⬜🟩 INEPT: 3.00  🟨⬜⬜🟨⬜ TRUCK: 3.62  \n",
      "🟨⬜⬜🟨🟨 WITCH: 3.27  🟨⬜⬜🟨🟩 COUNT: 2.81  🟨⬜⬜🟩⬜ USURP: 0.00  🟨⬜🟨⬜⬜ UNITY: 3.90  \n",
      "🟨⬜🟨⬜🟨 ANKLE: 2.32  🟨⬜🟨⬜🟩 THUMP: 3.14  🟨⬜🟨🟨⬜ HARSH: 2.00  🟨⬜🟨🟨🟩 ARISE: 1.58  \n",
      "🟨⬜🟩⬜⬜ GULCH: 3.32  🟨⬜🟩⬜🟨 LEFTY: 2.32  🟨⬜🟩⬜🟩 BELCH: 2.81  🟨⬜🟩🟨⬜ PATCH: 2.52  \n",
      "🟨⬜🟩🟨🟩 ERASE: 0.00  🟨🟨⬜⬜⬜ ALONG: 2.81  🟨🟨⬜⬜🟨 ONSET: 1.58  🟨🟨⬜⬜🟩 BATCH: 2.32  \n",
      "🟨🟨⬜🟨⬜ DIGIT: 2.32  🟨🟨⬜🟨🟨 VERSO: 0.00  🟨🟨⬜🟨🟩 PROSE: 0.00  🟨🟨🟨⬜⬜ ASCOT: 1.58  \n",
      "🟨🟨🟨🟨⬜ ARSON: 0.00  🟨🟨🟨🟨🟩 AROSE: 0.00  🟨🟨🟩⬜⬜ CHAOS: 0.00  🟨🟩⬜⬜⬜ THUMB: 3.46  \n",
      "🟨🟩⬜⬜🟨 NOSEY: 1.00  🟨🟩⬜⬜🟩 CUMIN: 2.85  🟨🟩⬜🟨⬜ ROOST: 2.00  🟨🟩⬜🟨🟨 LOSER: 1.00  \n",
      "🟨🟩⬜🟨🟩 HORSE: 1.58  🟨🟩🟩⬜⬜ ABACK: 1.58  🟨🟩🟩🟨⬜ ROAST: 0.00  🟩⬜⬜⬜⬜ THINK: 4.84  \n",
      "🟩⬜⬜⬜🟨 SPILT: 4.23  🟩⬜⬜⬜🟩 CLINK: 3.71  🟩⬜⬜🟨⬜ BUTCH: 3.17  🟩⬜⬜🟨🟨 HENCE: 3.03  \n",
      "🟩⬜⬜🟨🟩 SCREE: 2.00  🟩⬜⬜🟩⬜ FILTH: 3.00  🟩⬜⬜🟩🟨 SPERM: 1.00  🟩⬜⬜🟩🟩 SHIRE: 1.00  \n",
      "🟩⬜🟨⬜⬜ ADULT: 3.58  🟩⬜🟨⬜🟨 KNELT: 2.95  🟩⬜🟨⬜🟩 SAUCE: 1.58  🟩⬜🟨🟨⬜ EMPTY: 3.00  \n",
      "🟩⬜🟨🟨🟨 HUMAN: 2.25  🟩⬜🟩⬜⬜ THINK: 4.17  🟩⬜🟩⬜🟩 CLOTH: 3.03  🟩⬜🟩🟨⬜ STAIR: 0.00  \n",
      "🟩⬜🟩🟩⬜ THICK: 2.73  🟩⬜🟩🟩🟩 CHANT: 2.32  🟩🟨⬜⬜⬜ PUNCH: 3.80  🟩🟨⬜⬜🟩 KNELT: 2.92  \n",
      "🟩🟨⬜🟨⬜ SCOUR: 0.00  🟩🟨⬜🟩⬜ CHANT: 2.85  🟩🟨⬜🟩🟩 CHANT: 2.25  🟩🟨🟨⬜⬜ SALON: 2.00  \n",
      "🟩🟨🟨🟨⬜ SAVOR: 0.00  🟩🟩⬜⬜⬜ AUNTY: 2.81  🟩🟩⬜⬜🟩 SOLVE: 0.00  🟩🟩⬜🟨🟨 SOBER: 1.00  \n",
      "🟩🟩⬜🟩⬜ SORRY: 0.00  🟩🟩🟨🟨⬜ SOLAR: 1.00  🟩🟩🟩⬜⬜ SOAPY: 0.00  "
     ]
    }
   ],
   "source": [
    "word = \"SOARE\"\n",
    "\n",
    "ind = 0\n",
    "d = count_of_combos(word, wordle_answers, probability=True)\n",
    "\n",
    "for sequence in sorted(d.keys()):\n",
    "\n",
    "    corpus = wordle_answers\n",
    "    corpus = get_words_using_sequence(word, sequence, corpus)\n",
    "    \n",
    "    super_dict = {}\n",
    "    for answer in wordle_answers:\n",
    "        combs = count_of_combos(answer, corpus)\n",
    "        super_dict[answer] = sum_entropy_calculation(combs)\n",
    "        \n",
    "    df = pd.DataFrame([[key, val] for key, val in super_dict.items()], columns = ['WORD','ENTROPY'])\n",
    "    df['IN_CORPUS'] = [1 if word in corpus else 0 for word in df['WORD']]\n",
    "    df = df.sort_values(['ENTROPY','IN_CORPUS'], ascending=False)\n",
    "    df.index = df['WORD']\n",
    "    df = df[[False if entropy == 1 and in_corpus == 0 else True for entropy, in_corpus in zip(df['ENTROPY'], df['IN_CORPUS'])]]    \n",
    "    df = df[[False if entropy == 0  and in_corpus == 0 else True for entropy, in_corpus in zip(df['ENTROPY'], df['IN_CORPUS'])]]    \n",
    "    df = df.reset_index(drop=True)    \n",
    "    \n",
    "    print(f'{sequence} {df.iloc[0][\"WORD\"]}: {df.iloc[0][\"ENTROPY\"]:.2f}', end = \"  \")\n",
    "    ind += 1\n",
    "    if ind % 4 == 0:\n",
    "        print()\n"
   ]
  },
  {
   "cell_type": "markdown",
   "metadata": {},
   "source": [
    "## Hard Mode\n",
    "\n",
    "Hard mode is a mode where the player needs to use the letters they've unlocked in subsequence guesses. This makes narrowing down the correct answer a little trickier, but we should still be able to narrow down our pool of guesses relatively quickly."
   ]
  },
  {
   "cell_type": "code",
   "execution_count": 18,
   "metadata": {
    "scrolled": false
   },
   "outputs": [
    {
     "name": "stdout",
     "output_type": "stream",
     "text": [
      "⬜⬜⬜⬜⬜ LUNCH: 5.24  ⬜⬜⬜⬜🟨 BETEL: 5.02  ⬜⬜⬜⬜🟩 GUILE: 4.54  ⬜⬜⬜🟨⬜ TRICK: 4.40  \n",
      "⬜⬜⬜🟨🟨 DETER: 4.40  ⬜⬜⬜🟨🟩 TRIPE: 3.52  ⬜⬜⬜🟩⬜ CHURN: 3.09  ⬜⬜⬜🟩🟨 FERRY: 2.84  \n",
      "⬜⬜⬜🟩🟩 THERE: 2.00  ⬜⬜🟨⬜⬜ NATAL: 4.81  ⬜⬜🟨⬜🟨 PLEAT: 4.50  ⬜⬜🟨⬜🟩 ANGLE: 3.67  \n",
      "⬜⬜🟨🟨⬜ RADAR: 4.21  ⬜⬜🟨🟨🟨 LATER: 3.49  ⬜⬜🟨🟨🟩 CARVE: 2.52  ⬜⬜🟨🟩⬜ HAIRY: 2.66  \n",
      "⬜⬜🟨🟩🟨 ALERT: 1.92  ⬜⬜🟨🟩🟩 AFIRE: 1.00  ⬜⬜🟩⬜⬜ CLANK: 4.24  ⬜⬜🟩⬜🟨 DEATH: 3.49  \n",
      "⬜⬜🟩⬜🟩 PLATE: 2.53  ⬜⬜🟩🟨⬜ DRAWN: 3.25  ⬜⬜🟩🟨🟨 REACH: 1.50  ⬜⬜🟩🟨🟩 CRATE: 2.29  \n",
      "⬜⬜🟩🟩⬜ AWARD: 2.78  ⬜⬜🟩🟩🟨 TEARY: 1.88  ⬜⬜🟩🟩🟩 BLARE: 1.50  ⬜🟨⬜⬜⬜ BLOOD: 4.44  \n",
      "⬜🟨⬜⬜🟨 DEMON: 3.91  ⬜🟨⬜⬜🟩 CLONE: 3.32  ⬜🟨⬜🟨⬜ FRONT: 3.61  ⬜🟨⬜🟨🟨 TENOR: 2.72  \n",
      "⬜🟨⬜🟨🟩 PROVE: 2.07  ⬜🟨⬜🟩⬜ CHORD: 2.75  ⬜🟨⬜🟩🟨 METRO: 1.58  ⬜🟨⬜🟩🟩 CHORE: 1.00  \n",
      "⬜🟨🟨⬜⬜ BLOAT: 4.26  ⬜🟨🟨⬜🟨 CAMEO: 2.00  ⬜🟨🟨⬜🟩 ANODE: 2.50  ⬜🟨🟨🟨⬜ BARON: 3.63  \n",
      "⬜🟨🟨🟩⬜ ACORN: 2.25  ⬜🟨🟨🟩🟨 OPERA: 0.00  ⬜🟨🟨🟩🟩 ADORE: 0.00  ⬜🟨🟩⬜⬜ PIANO: 0.00  \n",
      "⬜🟨🟩⬜🟩 OVATE: 0.00  ⬜🟨🟩🟨⬜ BRAVO: 0.00  ⬜🟨🟩🟩⬜ OVARY: 0.00  ⬜🟩⬜⬜⬜ DONUT: 3.87  \n",
      "⬜🟩⬜⬜🟨 MOTEL: 3.00  ⬜🟩⬜⬜🟩 VOGUE: 2.72  ⬜🟩⬜🟨⬜ NORTH: 3.49  ⬜🟩⬜🟨🟨 ROWER: 2.11  \n",
      "⬜🟩⬜🟨🟩 FORGE: 2.73  ⬜🟩⬜🟩⬜ DOWRY: 2.25  ⬜🟩🟨⬜⬜ NOMAD: 3.33  ⬜🟩🟨🟨⬜ MORAL: 2.75  \n",
      "⬜🟩🟨🟩⬜ COBRA: 0.00  ⬜🟩🟩⬜⬜ LOAMY: 2.32  ⬜🟩🟩🟨⬜ ROACH: 0.00  ⬜🟩🟩🟩⬜ BOARD: 1.00  \n",
      "🟨⬜⬜⬜⬜ MUSHY: 4.10  🟨⬜⬜⬜🟨 GUEST: 3.58  🟨⬜⬜⬜🟩 DENSE: 2.75  🟨⬜⬜🟨⬜ CRUST: 3.58  \n",
      "🟨⬜⬜🟨🟨 RESET: 2.97  🟨⬜⬜🟨🟩 CURSE: 2.24  🟨⬜⬜🟩⬜ USURP: 0.00  🟨⬜🟨⬜⬜ NASTY: 3.80  \n",
      "🟨⬜🟨⬜🟨 ASHEN: 1.92  🟨⬜🟨⬜🟩 LAPSE: 2.87  🟨⬜🟨🟨⬜ HARSH: 2.00  🟨⬜🟨🟨🟩 ARISE: 1.58  \n",
      "🟨⬜🟩⬜⬜ CLASH: 2.84  🟨⬜🟩⬜🟨 BEAST: 1.37  🟨⬜🟩⬜🟩 CEASE: 2.24  🟨⬜🟩🟨⬜ CRASH: 1.84  \n",
      "🟨⬜🟩🟨🟩 ERASE: 0.00  🟨🟨⬜⬜⬜ GLOSS: 2.52  🟨🟨⬜⬜🟨 ONSET: 1.58  🟨🟨⬜⬜🟩 CHOSE: 1.92  \n",
      "🟨🟨⬜🟨⬜ CROSS: 1.92  🟨🟨⬜🟨🟨 VERSO: 0.00  🟨🟨⬜🟨🟩 PROSE: 0.00  🟨🟨🟨⬜⬜ ASCOT: 1.58  \n",
      "🟨🟨🟨🟨⬜ ARSON: 0.00  🟨🟨🟨🟨🟩 AROSE: 0.00  🟨🟨🟩⬜⬜ CHAOS: 0.00  🟨🟩⬜⬜⬜ MOIST: 3.01  \n",
      "🟨🟩⬜⬜🟨 NOSEY: 1.00  🟨🟩⬜⬜🟩 POISE: 1.67  🟨🟩⬜🟨⬜ ROOST: 2.00  🟨🟩⬜🟨🟨 LOSER: 1.00  \n",
      "🟨🟩⬜🟨🟩 HORSE: 1.58  🟨🟩🟩⬜⬜ BOAST: 0.92  🟨🟩🟩🟨⬜ ROAST: 0.00  🟩⬜⬜⬜⬜ STINK: 4.43  \n",
      "🟩⬜⬜⬜🟨 SPELT: 4.15  🟩⬜⬜⬜🟩 SPINE: 3.11  🟩⬜⬜🟨⬜ SCRUB: 2.42  🟩⬜⬜🟨🟨 SHEER: 2.72  \n",
      "🟩⬜⬜🟨🟩 SCREE: 2.00  🟩⬜⬜🟩⬜ SHIRT: 2.50  🟩⬜⬜🟩🟨 SPERM: 1.00  🟩⬜⬜🟩🟩 SHIRE: 1.00  \n",
      "🟩⬜🟨⬜⬜ SAUNA: 3.22  🟩⬜🟨⬜🟨 STEAD: 2.42  🟩⬜🟨⬜🟩 SAUCE: 1.58  🟩⬜🟨🟨⬜ SCRAP: 2.75  \n",
      "🟩⬜🟨🟨🟨 SHEAR: 1.46  🟩⬜🟩⬜⬜ SLANT: 3.48  🟩⬜🟩⬜🟩 SLATE: 2.29  🟩⬜🟩🟨⬜ STAIR: 0.00  \n",
      "🟩⬜🟩🟩⬜ STARK: 1.87  🟩⬜🟩🟩🟩 SCARE: 0.72  🟩🟨⬜⬜⬜ STOOP: 3.28  🟩🟨⬜⬜🟩 STOKE: 2.05  \n",
      "🟩🟨⬜🟨⬜ SCOUR: 0.00  🟩🟨⬜🟩⬜ SHORT: 2.17  🟩🟨⬜🟩🟩 SCORE: 0.65  🟩🟨🟨⬜⬜ SALON: 2.00  \n",
      "🟩🟨🟨🟨⬜ SAVOR: 0.00  🟩🟩⬜⬜⬜ SOOTY: 2.13  🟩🟩⬜⬜🟩 SOLVE: 0.00  🟩🟩⬜🟨🟨 SOBER: 1.00  \n",
      "🟩🟩⬜🟩⬜ SORRY: 0.00  🟩🟩🟨🟨⬜ SOLAR: 1.00  🟩🟩🟩⬜⬜ SOAPY: 0.00  "
     ]
    }
   ],
   "source": [
    "corpus = wordle_answers\n",
    "\n",
    "guess = \"SOARE\"\n",
    "ind = 0\n",
    "best_response = {}\n",
    "\n",
    "for i in sorted(combinations):\n",
    "    new_corpus = get_words_using_sequence(guess, i, corpus)\n",
    "    super_dict = {}\n",
    "    for answer in new_corpus:\n",
    "        combs = count_of_combos(answer, new_corpus)\n",
    "        super_dict[answer] = sum_entropy_calculation(combs)\n",
    "\n",
    "    df = pd.DataFrame([[key, val] for key, val in super_dict.items()], columns = ['WORD','ENTROPY'])\n",
    "    df['IN_CORPUS'] = [1 if word in new_corpus else 0 for word in df['WORD']]\n",
    "    df = df.sort_values(['ENTROPY','IN_CORPUS'], ascending=False)\n",
    "    df.index = df['WORD']\n",
    "    try:\n",
    "        print(f'{i} {df.iloc[0][\"WORD\"]}: {df.iloc[0][\"ENTROPY\"]:.2f}', end = \"  \")\n",
    "        ind += 1\n",
    "        if ind % 4 == 0:\n",
    "            print()\n",
    "    except:\n",
    "        pass"
   ]
  },
  {
   "cell_type": "code",
   "execution_count": 21,
   "metadata": {},
   "outputs": [
    {
     "name": "stdout",
     "output_type": "stream",
     "text": [
      "GUESS: MOUSE\n",
      "Response: GGGGG\n",
      "🟩🟩🟩🟩🟩\n",
      "Possible Answers ['MOUSE']\n",
      "Entropy Calculations\n",
      "       ENTROPY\n",
      "WORD          \n",
      "MOUSE      0.0\n"
     ]
    }
   ],
   "source": [
    "corpus = wordle_answers\n",
    "\n",
    "while len(corpus) > 1:\n",
    "    guess = input(\"GUESS: \").upper()\n",
    "    response = input(\"Response: \").upper()\n",
    "    response = response.replace(\"G\",\"🟩\").replace(\"Y\",\"🟨\").replace(\"W\",\"⬜\")\n",
    "    print(response)\n",
    "    corpus = get_words_using_sequence(guess, response, corpus)\n",
    "    \n",
    "    super_dict = {}\n",
    "    for answer in valid_entries:\n",
    "        combs = count_of_combos(answer, corpus)\n",
    "        super_dict[answer] = sum_entropy_calculation(combs)\n",
    "    \n",
    "    df = pd.DataFrame([[key, val] for key, val in super_dict.items()], columns = ['WORD','ENTROPY'])\n",
    "    df['IN_CORPUS'] = [1 if word in corpus else 0 for word in df['WORD']]\n",
    "    df = df.sort_values(['ENTROPY','IN_CORPUS'], ascending=False)\n",
    "    df.index = df['WORD']\n",
    "    df = df[[False if entropy == 1 and in_corpus == 0 else True for entropy, in_corpus in zip(df['ENTROPY'], df['IN_CORPUS'])]]    \n",
    "    df = df[[False if entropy == 0  and in_corpus == 0 else True for entropy, in_corpus in zip(df['ENTROPY'], df['IN_CORPUS'])]]    \n",
    "    df.drop(['WORD','IN_CORPUS'], axis = 1, inplace=True)\n",
    "    print('Possible Answers', corpus)\n",
    "    print(\"Entropy Calculations\")\n",
    "    print(df.head(20))\n",
    "    "
   ]
  }
 ],
 "metadata": {
  "kernelspec": {
   "display_name": "Python 3",
   "language": "python",
   "name": "python3"
  },
  "language_info": {
   "codemirror_mode": {
    "name": "ipython",
    "version": 3
   },
   "file_extension": ".py",
   "mimetype": "text/x-python",
   "name": "python",
   "nbconvert_exporter": "python",
   "pygments_lexer": "ipython3",
   "version": "3.8.5"
  }
 },
 "nbformat": 4,
 "nbformat_minor": 5
}
