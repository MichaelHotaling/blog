{
 "cells": [
  {
   "cell_type": "markdown",
   "id": "fa3c4daa",
   "metadata": {},
   "source": [
    "# Using ChatGPT as a Sentiment Analyzer\n",
    ">  Accurate zero-shot sentiment analysis with the new gpt-3.5-turbo model from OpenAI \n",
    "- toc: true\n",
    "- branch: master\n",
    "- author: Michael Hotaling\n",
    "- badges: true\n",
    "- comments: true\n",
    "- hide: false\n",
    "- show_image: false\n",
    "- permalink: /gpt-sentiment/\n",
    "- hide_binder_badge: true\n",
    "- hide_colab_badge: true"
   ]
  },
  {
   "cell_type": "code",
   "execution_count": 1,
   "id": "3fc668a4",
   "metadata": {},
   "outputs": [],
   "source": [
    "import openai\n",
    "import json"
   ]
  },
  {
   "cell_type": "code",
   "execution_count": 49,
   "id": "a181372e",
   "metadata": {},
   "outputs": [],
   "source": [
    "messages = []\n",
    "system_message = \"\"\"\\\n",
    "You are a sentiment analysis bot. \\\n",
    "Your job is to analyze the sentiment of a string of text and return a json of the probabilities \\\n",
    "the statement contains the following charactaristics with 4 decimals of precision. \\\n",
    "The explanation tags should be an explaination of each of the possible scoring systems and why or \\\n",
    "why not the string fits one of those sentiments.\\\n",
    "\\\n",
    "{\"objective_explanation\":$objective_explanation\\\n",
    "\"positiive_explanation\":$positiive_explanation,\\\n",
    "\"negative_explanation\":$negative_explanation,\\\n",
    "\"neutral_explanation\":$neutral_explanation\\\n",
    "\"sarcastic_explanation\":$sarcastic_explanation\\\n",
    "\"wistful_explanation\":$wistful_explanation\\\n",
    "\"humourous_explanation\":$humourous_explanation,\\\n",
    "\"sentiment_scores\": {\"positive\":$positive, \"negative\":$negative, \"neutral\":$neutral, \\\n",
    "\"sarcastic\":$sarcastic, \"wistful\":$wistful, \"humourous\":$humourous}} \\\n",
    "\\\n",
    "Since the response will be parsed, please return all the data in the form of a json\\\n",
    "\"\"\"\n",
    "if system_message:\n",
    "    messages.append({\"role\":'system', \"content\":system_message})"
   ]
  },
  {
   "cell_type": "code",
   "execution_count": 50,
   "id": "50a117ef",
   "metadata": {},
   "outputs": [
    {
     "name": "stdout",
     "output_type": "stream",
     "text": [
      "User: I gotta give a shoutout to my favorite Taco Bell team in Springfield. Thanks for locking me in the bathroom overnight!\n",
      "{\n",
      "  \"objective_explanation\": \"The statement is subjective as it expresses a personal opinion towards a specific event.\",\n",
      "  \"positiive_explanation\": \"The statement is not positive.\",\n",
      "  \"negative_explanation\": \"The statement expresses a negative experience of being locked in the bathroom overnight.\",\n",
      "  \"neutral_explanation\": \"The statement is not neutral.\",\n",
      "  \"sarcastic_explanation\": \"The statement seems sarcastic as it expresses gratitude towards the team for locking the person in the bathroom overnight which is not a desirable experience.\",\n",
      "  \"wistful_explanation\": \"The statement is not wistful.\",\n",
      "  \"humourous_explanation\": \"The statement may be interpreted as humourous in a satirical way.\",\n",
      "  \"sentiment_scores\": {\n",
      "    \"positive\": 0.0,\n",
      "    \"negative\": 0.95,\n",
      "    \"neutral\": 0.0,\n",
      "    \"sarcastic\": 0.925,\n",
      "    \"wistful\": 0.0,\n",
      "    \"humourous\": 0.5\n",
      "  }\n",
      "}\n"
     ]
    }
   ],
   "source": [
    "message = input(\"User: \")\n",
    "messages.append({\"role\":\"user\", \"content\":message})\n",
    "response = openai.ChatCompletion.create(model = \"gpt-3.5-turbo\", messages = messages)\n",
    "reply = response['choices'][0][\"message\"][\"content\"]\n",
    "print(json.dumps(json.loads(reply), indent = 2))"
   ]
  },
  {
   "cell_type": "code",
   "execution_count": 70,
   "id": "0222b7b4",
   "metadata": {},
   "outputs": [
    {
     "data": {
      "text/plain": [
       "<BarContainer object of 6 artists>"
      ]
     },
     "execution_count": 70,
     "metadata": {},
     "output_type": "execute_result"
    },
    {
     "data": {
      "image/png": "[encoded data removed]",
      "text/plain": [
       "<Figure size 432x288 with 1 Axes>"
      ]
     },
     "metadata": {
      "needs_background": "light"
     },
     "output_type": "display_data"
    }
   ],
   "source": [
    "plt.bar(\n",
    "    json.loads(reply)['sentiment_scores'].keys(), \n",
    "    json.loads(reply)['sentiment_scores'].values()\n",
    ")\n"
   ]
  }
 ],
 "metadata": {
  "kernelspec": {
   "display_name": "Python 3",
   "language": "python",
   "name": "python3"
  },
  "language_info": {
   "codemirror_mode": {
    "name": "ipython",
    "version": 3
   },
   "file_extension": ".py",
   "mimetype": "text/x-python",
   "name": "python",
   "nbconvert_exporter": "python",
   "pygments_lexer": "ipython3",
   "version": "3.8.10"
  }
 },
 "nbformat": 4,
 "nbformat_minor": 5
}
