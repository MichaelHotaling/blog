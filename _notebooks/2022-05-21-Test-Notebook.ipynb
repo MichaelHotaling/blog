{
 "cells": [
  {
   "cell_type": "markdown",
   "id": "6992928a",
   "metadata": {},
   "source": [
    "# Test Notebook\n",
    "> This is my test notebook\n",
    "\n",
    "- toc: true\n",
    "- branch: master\n",
    "- author: Michael Hotaling\n",
    "- badges: true\n",
    "- comments: true\n",
    "- categories: [jupyter, matplotlib,python, recurrent neural network, machine learning]\n",
    "- hide: false\n",
    "- show_image: false\n",
    "- permalink: /test-notebook/\n",
    "- hide_binder_badge: false\n",
    "- hide_colab_badge: false"
   ]
  },
  {
   "cell_type": "code",
   "execution_count": 2,
   "id": "fc7777da",
   "metadata": {},
   "outputs": [
    {
     "data": {
      "text/plain": [
       "True"
      ]
     },
     "execution_count": 2,
     "metadata": {},
     "output_type": "execute_result"
    }
   ],
   "source": [
    "2+2 == 4"
   ]
  },
  {
   "cell_type": "code",
   "execution_count": null,
   "id": "47721975",
   "metadata": {},
   "outputs": [],
   "source": []
  }
 ],
 "metadata": {
  "kernelspec": {
   "display_name": "Python 3",
   "language": "python",
   "name": "python3"
  },
  "language_info": {
   "codemirror_mode": {
    "name": "ipython",
    "version": 3
   },
   "file_extension": ".py",
   "mimetype": "text/x-python",
   "name": "python",
   "nbconvert_exporter": "python",
   "pygments_lexer": "ipython3",
   "version": "3.8.10"
  }
 },
 "nbformat": 4,
 "nbformat_minor": 5
}
