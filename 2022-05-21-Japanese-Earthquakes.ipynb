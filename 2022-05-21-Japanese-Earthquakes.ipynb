{
 "cells": [
  {
   "cell_type": "markdown",
   "id": "f46dfd20",
   "metadata": {},
   "source": [
    "# The Great Tohoku earthquake and the Fukushima Daiichi Accident\n",
    "\n",
    "> The Tohoku earthquake was the most powerful earthquake ever recorded in Japan, and the fourth most powerful earthquake in the world since modern record-keeping began in 1900. This notebook is an analysis into the earthquakes in Japan and how frequently Japan should expect earthquakes of varying magnitude based on linear regression\n",
    "\n",
    "- toc: true\n",
    "- branch: master\n",
    "- author: Michael Hotaling\n",
    "- badges: true\n",
    "- comments: true\n",
    "- hide: false\n",
    "- show_image: false\n",
    "- hide_binder_badge: false\n",
    "- hide_colab_badge: false"
   ]
  },
  {
   "cell_type": "code",
   "execution_count": 1,
   "id": "b4376a2b",
   "metadata": {},
   "outputs": [],
   "source": [
    "import pandas as pd"
   ]
  },
  {
   "cell_type": "code",
   "execution_count": 2,
   "id": "c933ee6d",
   "metadata": {},
   "outputs": [],
   "source": [
    "df = pd.read_csv(\"data/Japan earthquakes 2001 - 2018.csv\")"
   ]
  },
  {
   "cell_type": "code",
   "execution_count": 4,
   "id": "23afbddd",
   "metadata": {},
   "outputs": [],
   "source": [
    "import numpy as np \n",
    "import pandas as pd\n",
    "import matplotlib.pyplot as plt\n",
    "import seaborn as sns\n",
    "from sklearn.linear_model import LinearRegression\n",
    "#import geopandas as gpd\n",
    "import folium\n",
    "from IPython.core.display import display, HTML\n",
    "from IPython.display import IFrame\n"
   ]
  },
  {
   "cell_type": "code",
   "execution_count": 5,
   "id": "c99cd612",
   "metadata": {},
   "outputs": [],
   "source": [
    "df['popup'] = pd.to_datetime(df['time']).dt.strftime(\"%Y-%m-%d\") + \": Magnitude \"+ df['mag'].astype(str) +\" \" +df['place']"
   ]
  },
  {
   "cell_type": "code",
   "execution_count": 6,
   "id": "1305368a",
   "metadata": {},
   "outputs": [],
   "source": [
    "#Hide\n",
    "# Loading the background map\n",
    "eq_map = folium.Map(location=[37.973265, 142.597713], zoom_start=5, tiles='Stamen Terrain', width=1250)\n",
    "fg = folium.FeatureGroup(name=\"My Map\")\n",
    "\n",
    "# Adding a circle for each earthquake\n",
    "for idx, eq in df.query('mag >= 6').iterrows():\n",
    "    #folium.Circle(location=(eq['latitude'], eq['longitude']), radius=20000 * (eq['mag']-6), color='red', fill=False, alpha = 0.4).add_to(eq_map)\n",
    "    fg.add_child(folium.CircleMarker(location=[eq['latitude'], \n",
    "                                               eq['longitude']], \n",
    "                                     radius=10 * (eq['mag']-6), \n",
    "                                     color = 'red', \n",
    "                                     fill_color='red', \n",
    "                                     fill_opacity=0.4, \n",
    "                                     popup=eq['popup']\n",
    "                                    )\n",
    "                )\n",
    "    \n",
    "eq_map.add_child(fg)\n",
    "folium.Circle(location = (37.4218, 141.0337), color = 'yellow', fill_color = 'yellow', radius = 2000, popup=\"Fukushima Daiichi\", fill_opacity=0.4).add_to(eq_map);"
   ]
  },
  {
   "cell_type": "code",
   "execution_count": 7,
   "id": "a2768de4",
   "metadata": {},
   "outputs": [],
   "source": [
    "eq_map.save(\"eq_map.html\")"
   ]
  },
  {
   "cell_type": "code",
   "execution_count": 8,
   "id": "bf90df35",
   "metadata": {},
   "outputs": [
    {
     "data": {
      "text/html": [
       "\n",
       "        <iframe\n",
       "            width=\"700\"\n",
       "            height=\"600\"\n",
       "            src=\"eq_map.html\"\n",
       "            frameborder=\"0\"\n",
       "            allowfullscreen\n",
       "        ></iframe>\n",
       "        "
      ],
      "text/plain": [
       "<IPython.lib.display.IFrame at 0x14382624220>"
      ]
     },
     "execution_count": 8,
     "metadata": {},
     "output_type": "execute_result"
    }
   ],
   "source": [
    "\n",
    "IFrame(src='eq_map.html', width=700, height=600)"
   ]
  },
  {
   "cell_type": "code",
   "execution_count": null,
   "id": "c82faf92",
   "metadata": {},
   "outputs": [],
   "source": []
  }
 ],
 "metadata": {
  "kernelspec": {
   "display_name": "Python 3",
   "language": "python",
   "name": "python3"
  },
  "language_info": {
   "codemirror_mode": {
    "name": "ipython",
    "version": 3
   },
   "file_extension": ".py",
   "mimetype": "text/x-python",
   "name": "python",
   "nbconvert_exporter": "python",
   "pygments_lexer": "ipython3",
   "version": "3.8.10"
  }
 },
 "nbformat": 4,
 "nbformat_minor": 5
}
